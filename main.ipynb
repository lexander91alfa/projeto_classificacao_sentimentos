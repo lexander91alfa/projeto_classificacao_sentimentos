{
 "cells": [
  {
   "cell_type": "markdown",
   "metadata": {},
   "source": [
    "# Classificação de Sentimentos através de Análise de Texto em inglês"
   ]
  },
  {
   "cell_type": "code",
   "execution_count": 2,
   "metadata": {},
   "outputs": [],
   "source": [
    "from transformers import pipeline"
   ]
  },
  {
   "cell_type": "markdown",
   "metadata": {},
   "source": [
    "## Carrega o modelo do huggingface para análise de sentimentos"
   ]
  },
  {
   "cell_type": "code",
   "execution_count": null,
   "metadata": {},
   "outputs": [],
   "source": [
    "classificador_sentimento = pipeline('sentiment-analysis', model='distilbert-base-uncased-finetuned-sst-2-english')"
   ]
  },
  {
   "cell_type": "markdown",
   "metadata": {},
   "source": [
    "## Testando o classificador"
   ]
  },
  {
   "cell_type": "code",
   "execution_count": 18,
   "metadata": {},
   "outputs": [],
   "source": [
    "def classificar_sentimento(texto):\n",
    "    resultado = classificador_sentimento(texto)\n",
    "    print(\"\\n\".join([f\"Título: {texto}\", f\"Sentimento: {resultado[0]['label']}\", f\"Confiança: {resultado[0]['score']}\"]))"
   ]
  },
  {
   "cell_type": "code",
   "execution_count": 19,
   "metadata": {},
   "outputs": [
    {
     "name": "stdout",
     "output_type": "stream",
     "text": [
      "Título: I love you\n",
      "Sentimento: POSITIVE\n",
      "Confiança: 0.9998656511306763\n"
     ]
    }
   ],
   "source": [
    "classificar_sentimento(\"I love you\")"
   ]
  },
  {
   "cell_type": "code",
   "execution_count": 20,
   "metadata": {},
   "outputs": [
    {
     "name": "stdout",
     "output_type": "stream",
     "text": [
      "Título: I don't like you\n",
      "Sentimento: NEGATIVE\n",
      "Confiança: 0.9986074566841125\n"
     ]
    }
   ],
   "source": [
    "classificar_sentimento(\"I don't like you\")"
   ]
  },
  {
   "cell_type": "code",
   "execution_count": 21,
   "metadata": {},
   "outputs": [
    {
     "name": "stdout",
     "output_type": "stream",
     "text": [
      "Título: I don't care about you\n",
      "Sentimento: NEGATIVE\n",
      "Confiança: 0.9995669722557068\n"
     ]
    }
   ],
   "source": [
    "classificar_sentimento(\"I don't care about you\")"
   ]
  },
  {
   "cell_type": "code",
   "execution_count": 22,
   "metadata": {},
   "outputs": [
    {
     "name": "stdout",
     "output_type": "stream",
     "text": [
      "Título: My mom is the best person in the world, but my dad is the worst when he is drunk\n",
      "Sentimento: NEGATIVE\n",
      "Confiança: 0.9979684948921204\n"
     ]
    }
   ],
   "source": [
    "classificar_sentimento(\"My mom is the best person in the world, but my dad is the worst when he is drunk\")"
   ]
  },
  {
   "cell_type": "code",
   "execution_count": 23,
   "metadata": {},
   "outputs": [
    {
     "name": "stdout",
     "output_type": "stream",
     "text": [
      "Título: I'm so happy today because I'm going to the beach with my friends, I love them so much and I can't wait to see them, but I'm also sad because I'm going to miss my mom, she is the best person in the world\n",
      "Sentimento: POSITIVE\n",
      "Confiança: 0.9917858242988586\n"
     ]
    }
   ],
   "source": [
    "classificar_sentimento(\"I'm so happy today because I'm going to the beach with my friends, I love them so much and I can't wait to see them, but I'm also sad because I'm going to miss my mom, she is the best person in the world\")"
   ]
  }
 ],
 "metadata": {
  "kernelspec": {
   "display_name": "projeto-classificacao-sentimentos-vv05CV8v-py3.12",
   "language": "python",
   "name": "python3"
  },
  "language_info": {
   "codemirror_mode": {
    "name": "ipython",
    "version": 3
   },
   "file_extension": ".py",
   "mimetype": "text/x-python",
   "name": "python",
   "nbconvert_exporter": "python",
   "pygments_lexer": "ipython3",
   "version": "3.12.4"
  }
 },
 "nbformat": 4,
 "nbformat_minor": 2
}
